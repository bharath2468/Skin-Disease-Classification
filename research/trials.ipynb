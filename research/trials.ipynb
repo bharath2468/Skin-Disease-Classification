{
 "cells": [
  {
   "cell_type": "code",
   "execution_count": null,
   "metadata": {},
   "outputs": [],
   "source": [
    "import tensorflow as tf\n",
    "from transformers import ViTFeatureExtractor\n",
    "from datasets import load_dataset\n",
    "\n",
    "# Load your dataset (replace with your dataset)\n",
    "dataset = load_dataset('cifar10', split='train[:80%]')\n",
    "\n",
    "# Only keep 8 classes for demonstration purposes\n",
    "dataset = dataset.filter(lambda x: x['label'] < 8)\n",
    "\n",
    "# Preprocess the images\n",
    "feature_extractor = ViTFeatureExtractor.from_pretrained('google/vit-base-patch16-224')\n",
    "\n",
    "def preprocess_images(examples):\n",
    "    images = [image.convert(\"RGB\") for image in examples['img']]\n",
    "    inputs = feature_extractor(images, return_tensors=\"tf\")\n",
    "    inputs['labels'] = examples['label']\n",
    "    return inputs\n",
    "\n",
    "dataset = dataset.map(preprocess_images, batched=True)\n"
   ]
  }
 ],
 "metadata": {
  "kernelspec": {
   "display_name": "Venv",
   "language": "python",
   "name": "python3"
  },
  "language_info": {
   "codemirror_mode": {
    "name": "ipython",
    "version": 3
   },
   "file_extension": ".py",
   "mimetype": "text/x-python",
   "name": "python",
   "nbconvert_exporter": "python",
   "pygments_lexer": "ipython3",
   "version": "3.11.4"
  }
 },
 "nbformat": 4,
 "nbformat_minor": 2
}
